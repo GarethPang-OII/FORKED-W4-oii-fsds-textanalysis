{
 "cells": [
  {
   "cell_type": "markdown",
   "metadata": {},
   "source": [
    "# Fundamentals of Social Data Science — Group Project 2"
   ]
  },
  {
   "cell_type": "markdown",
   "metadata": {},
   "source": [
    "## Question: On average, do posts under \"AskMen\" (M), \"AskWomen\" (W), \"TooAfraidtoask\" (A) have different number of comments?\n",
    "\n",
    "## Hypothesis\n",
    "\n",
    "|Hypothesis|Elaboration|\n",
    "|:-----|:-----|\n",
    "|Null Hypothesis, $H_0$|$\\mu_M = \\mu_W = \\mu_A$|\n",
    "|Alternative Hypothesis, $H_1$|The mean are non-equal|"
   ]
  },
  {
   "cell_type": "markdown",
   "metadata": {},
   "source": [
    "### Step 0: Import pre-requisite libraries"
   ]
  },
  {
   "cell_type": "code",
   "execution_count": 26,
   "metadata": {},
   "outputs": [
    {
     "name": "stdout",
     "output_type": "stream",
     "text": [
      "The autoreload extension is already loaded. To reload it, use:\n",
      "  %reload_ext autoreload\n"
     ]
    }
   ],
   "source": [
    "%load_ext autoreload\n",
    "%autoreload 2"
   ]
  },
  {
   "cell_type": "code",
   "execution_count": 41,
   "metadata": {},
   "outputs": [],
   "source": [
    "import os\n",
    "import pickle\n",
    "from models.reddit_scraper import RedditScraper\n",
    "from config.settings import USER_AGENT\n",
    "from utils.analysis import *\n",
    "import pandas as pd\n",
    "from matplotlib import pyplot as plt\n",
    "import networkx as nx\n",
    "from utils.network_builder import *\n",
    "import time\n",
    "from scipy import stats\n",
    "from statsmodels.stats.multicomp import pairwise_tukeyhsd\n",
    "import seaborn as sns"
   ]
  },
  {
   "cell_type": "markdown",
   "metadata": {},
   "source": [
    "### Step 1: Scrape and load data from Reddit\n",
    "\n",
    "1. Specify subreddits we are interested in \n",
    "\n",
    "2. For each subreddit, perform the function `scrapesubreddit_convertoDF`\n",
    "\n",
    "    a. Load 30 posts (`numberofposts = 30`)\n",
    "\n",
    "    b. Create a dataframe containing all the posts (`posts_df`)\n",
    "\n",
    "    c. Create a dataframe containing all the comments for all posts under the subreddit (`comments_df`)\n",
    "\n",
    "3. **Output is 6 dataframes**\n",
    "\n",
    "|Label|What it is|\n",
    "|:-----|:-----|\n",
    "|`AskMen_posts_df`|Dataframe containing all the **posts** under subreddit **_AskMen_**|\n",
    "|`AskMen_comments_df`|Dataframe containing all the **comments** under subreddit **_AskMen_**|\n",
    "|`AskWomen_posts_df`|Dataframe containing all the **posts** under subreddit **_AskWomen_**|\n",
    "|`AskWomen_comments_df`|Dataframe containing all the **comments** under subreddit **_AskWomen_**|\n",
    "|`TooAfraidtoask_posts_df`|Dataframe containing all the **posts** under subreddit **_TooAfraidtoask_**|\n",
    "|`TooAfraidtoask_comments_df`|Dataframe containing all the **comments** under subreddit **_TooAfraidtoask_**|\n",
    "\n"
   ]
  },
  {
   "cell_type": "code",
   "execution_count": 28,
   "metadata": {},
   "outputs": [],
   "source": [
    "# 1. Load the scraper\n",
    "scraper = RedditScraper(USER_AGENT)\n",
    "\n",
    "# 2. Define function to \n",
    "    # (1) load posts from the subreddit and convert into a dataframe, \n",
    "    # (2) load comments for each post and convert into a dataframe\n",
    "\n",
    "def scrapesubreddit_converttoDF(scraper, subreddit_name, numberofposts):\n",
    "    posts = scraper.get_subreddit_posts(subreddit_name, limit=numberofposts, cache=False, sort=\"hot\")\n",
    "        # Filter posts based on 'hot'\n",
    "    posts_df = pd.DataFrame(posts)\n",
    "\n",
    "        # This is the dataframe for ALL posts under the subreddit\n",
    "\n",
    "    comment_list = []\n",
    "    for post in posts:\n",
    "        comments = scraper.get_post_comments(post['id'])\n",
    "        comment_list.append(pd.DataFrame(comments))\n",
    "        time.sleep(2)\n",
    "\n",
    "    comments_df = pd.concat(comment_list)\n",
    "\n",
    "    return posts_df, comments_df"
   ]
  },
  {
   "cell_type": "code",
   "execution_count": 29,
   "metadata": {},
   "outputs": [],
   "source": [
    "# 3. Standardise number of posts to download\n",
    "\n",
    "numberofposts = 50"
   ]
  },
  {
   "cell_type": "code",
   "execution_count": 30,
   "metadata": {},
   "outputs": [
    {
     "name": "stdout",
     "output_type": "stream",
     "text": [
      "Fetching posts from https://api.reddit.com/r/AskMen/hot\n",
      "Response keys: dict_keys(['kind', 'data'])\n",
      "Fetching comments from https://api.reddit.com/comments/1cvy93s\n",
      "Fetching comments from https://api.reddit.com/comments/1gllxd8\n",
      "Fetching comments from https://api.reddit.com/comments/1gloykx\n",
      "Fetching comments from https://api.reddit.com/comments/1gl5i9p\n",
      "Fetching comments from https://api.reddit.com/comments/1gl8zus\n",
      "Fetching comments from https://api.reddit.com/comments/1glbxkd\n",
      "Fetching comments from https://api.reddit.com/comments/1gli80m\n",
      "Fetching comments from https://api.reddit.com/comments/1gll5r0\n",
      "Fetching comments from https://api.reddit.com/comments/1gls2ih\n",
      "Fetching comments from https://api.reddit.com/comments/1glsn6h\n",
      "Fetching comments from https://api.reddit.com/comments/1glq50e\n",
      "Fetching comments from https://api.reddit.com/comments/1glq9ud\n",
      "Fetching comments from https://api.reddit.com/comments/1gkv123\n",
      "Fetching comments from https://api.reddit.com/comments/1glqi9p\n",
      "Fetching comments from https://api.reddit.com/comments/1gllohz\n",
      "Fetching comments from https://api.reddit.com/comments/1glk3l5\n",
      "Fetching comments from https://api.reddit.com/comments/1glfa1n\n",
      "Fetching comments from https://api.reddit.com/comments/1glslco\n",
      "Fetching comments from https://api.reddit.com/comments/1gl1xbq\n",
      "Fetching comments from https://api.reddit.com/comments/1gl34cb\n",
      "Fetching comments from https://api.reddit.com/comments/1gl5idm\n",
      "Fetching comments from https://api.reddit.com/comments/1gl8uvd\n",
      "Fetching comments from https://api.reddit.com/comments/1gl6qfk\n",
      "Fetching comments from https://api.reddit.com/comments/1glqjno\n",
      "Fetching comments from https://api.reddit.com/comments/1glh1d2\n",
      "Fetching comments from https://api.reddit.com/comments/1gley1j\n",
      "Fetching comments from https://api.reddit.com/comments/1glec8l\n",
      "Fetching comments from https://api.reddit.com/comments/1gksm6v\n",
      "Fetching comments from https://api.reddit.com/comments/1gl9zut\n",
      "Fetching comments from https://api.reddit.com/comments/1glijh9\n",
      "Fetching comments from https://api.reddit.com/comments/1gl92zb\n",
      "Fetching comments from https://api.reddit.com/comments/1glpe6p\n",
      "Fetching comments from https://api.reddit.com/comments/1gldewa\n",
      "Fetching comments from https://api.reddit.com/comments/1gldw9c\n",
      "Fetching comments from https://api.reddit.com/comments/1glonbu\n",
      "Fetching comments from https://api.reddit.com/comments/1glnwy2\n",
      "Fetching comments from https://api.reddit.com/comments/1gkyor4\n",
      "Fetching comments from https://api.reddit.com/comments/1gl4zju\n",
      "Fetching comments from https://api.reddit.com/comments/1gln3ty\n",
      "Fetching comments from https://api.reddit.com/comments/1glesp8\n",
      "Fetching comments from https://api.reddit.com/comments/1gl64yc\n",
      "Fetching comments from https://api.reddit.com/comments/1glq5f6\n",
      "Fetching comments from https://api.reddit.com/comments/1glpodp\n",
      "Fetching comments from https://api.reddit.com/comments/1glm62v\n",
      "Fetching comments from https://api.reddit.com/comments/1gkhu2x\n",
      "Fetching comments from https://api.reddit.com/comments/1gktq9i\n",
      "Fetching comments from https://api.reddit.com/comments/1glldoy\n",
      "Fetching comments from https://api.reddit.com/comments/1gllcsc\n",
      "Fetching comments from https://api.reddit.com/comments/1glf0bu\n",
      "Fetching comments from https://api.reddit.com/comments/1gl7n3v\n",
      "Fetching comments from https://api.reddit.com/comments/1glcurx\n"
     ]
    }
   ],
   "source": [
    "# 3a. For subreddit AskMen\n",
    "\n",
    "subreddit_name_1 = \"AskMen\"\n",
    "numberofposts_1 = numberofposts\n",
    "\n",
    "AskMen_posts_df, AskMen_comments_df = scrapesubreddit_converttoDF(scraper, subreddit_name_1, numberofposts_1)"
   ]
  },
  {
   "cell_type": "code",
   "execution_count": 31,
   "metadata": {},
   "outputs": [
    {
     "name": "stdout",
     "output_type": "stream",
     "text": [
      "Fetching posts from https://api.reddit.com/r/AskWomen/hot\n",
      "Response keys: dict_keys(['kind', 'data'])\n",
      "Fetching comments from https://api.reddit.com/comments/1glivrt\n",
      "Fetching comments from https://api.reddit.com/comments/1glk82k\n",
      "Fetching comments from https://api.reddit.com/comments/1gl302u\n",
      "Fetching comments from https://api.reddit.com/comments/1glbp1v\n",
      "Fetching comments from https://api.reddit.com/comments/1gl9vci\n",
      "Fetching comments from https://api.reddit.com/comments/1glbnmr\n",
      "Fetching comments from https://api.reddit.com/comments/1glbqmm\n",
      "Fetching comments from https://api.reddit.com/comments/1gkyblo\n",
      "Fetching comments from https://api.reddit.com/comments/1glt50m\n",
      "Fetching comments from https://api.reddit.com/comments/1gl7r9v\n",
      "Fetching comments from https://api.reddit.com/comments/1glooo8\n",
      "Fetching comments from https://api.reddit.com/comments/1gll8it\n",
      "Fetching comments from https://api.reddit.com/comments/1glfvuz\n",
      "Fetching comments from https://api.reddit.com/comments/1gkgq5x\n",
      "Fetching comments from https://api.reddit.com/comments/1gk8odf\n",
      "Fetching comments from https://api.reddit.com/comments/1gkaza3\n",
      "Fetching comments from https://api.reddit.com/comments/1gk9e1q\n",
      "Fetching comments from https://api.reddit.com/comments/1gkw30z\n",
      "Fetching comments from https://api.reddit.com/comments/1gk82ko\n",
      "Fetching comments from https://api.reddit.com/comments/1gk18m8\n",
      "Fetching comments from https://api.reddit.com/comments/1gjqhm9\n",
      "Fetching comments from https://api.reddit.com/comments/1gk820i\n",
      "Fetching comments from https://api.reddit.com/comments/1gjzhqn\n",
      "Fetching comments from https://api.reddit.com/comments/1gkx4hy\n",
      "Fetching comments from https://api.reddit.com/comments/1gkuglu\n",
      "Fetching comments from https://api.reddit.com/comments/1gjz31u\n",
      "Fetching comments from https://api.reddit.com/comments/1gje5gs\n",
      "Fetching comments from https://api.reddit.com/comments/1gjendt\n",
      "Fetching comments from https://api.reddit.com/comments/1gj9zls\n",
      "Fetching comments from https://api.reddit.com/comments/1giz6k8\n",
      "Fetching comments from https://api.reddit.com/comments/1gj5aqr\n",
      "Fetching comments from https://api.reddit.com/comments/1gj5zrs\n",
      "Fetching comments from https://api.reddit.com/comments/1gjb1yu\n",
      "Fetching comments from https://api.reddit.com/comments/1gjb0p7\n",
      "Fetching comments from https://api.reddit.com/comments/1ginkcg\n",
      "Fetching comments from https://api.reddit.com/comments/1gis9wq\n",
      "Fetching comments from https://api.reddit.com/comments/1gj6rwi\n",
      "Fetching comments from https://api.reddit.com/comments/1giv8wg\n",
      "Fetching comments from https://api.reddit.com/comments/1givw6a\n",
      "Fetching comments from https://api.reddit.com/comments/1gihpm1\n",
      "Fetching comments from https://api.reddit.com/comments/1gigz22\n",
      "Fetching comments from https://api.reddit.com/comments/1gi1yuf\n",
      "Fetching comments from https://api.reddit.com/comments/1gig9td\n",
      "Fetching comments from https://api.reddit.com/comments/1ghy40t\n",
      "Fetching comments from https://api.reddit.com/comments/1gi6g1e\n",
      "Fetching comments from https://api.reddit.com/comments/1gidyoe\n",
      "Fetching comments from https://api.reddit.com/comments/1ghp8f2\n",
      "Fetching comments from https://api.reddit.com/comments/1ghnfhr\n",
      "Fetching comments from https://api.reddit.com/comments/1ghqp4b\n",
      "Fetching comments from https://api.reddit.com/comments/1ghc4i0\n",
      "Fetching comments from https://api.reddit.com/comments/1ghllis\n"
     ]
    }
   ],
   "source": [
    "# 3b. For subreddit AskWomen\n",
    "\n",
    "subreddit_name_2 = \"AskWomen\"\n",
    "numberofposts_2 = numberofposts\n",
    "\n",
    "AskWomen_posts_df, AskWomen_comments_df = scrapesubreddit_converttoDF(scraper, subreddit_name_2, numberofposts_2)"
   ]
  },
  {
   "cell_type": "code",
   "execution_count": 33,
   "metadata": {},
   "outputs": [
    {
     "name": "stdout",
     "output_type": "stream",
     "text": [
      "Fetching posts from https://api.reddit.com/r/TooAfraidToAsk/hot\n",
      "Response keys: dict_keys(['kind', 'data'])\n",
      "Fetching comments from https://api.reddit.com/comments/14qcjv9\n",
      "Fetching comments from https://api.reddit.com/comments/1eatq3y\n",
      "Fetching comments from https://api.reddit.com/comments/1glgh0a\n",
      "Fetching comments from https://api.reddit.com/comments/1glimg1\n",
      "Fetching comments from https://api.reddit.com/comments/1gls3tv\n",
      "Fetching comments from https://api.reddit.com/comments/1glgeku\n",
      "Fetching comments from https://api.reddit.com/comments/1glolmt\n",
      "Fetching comments from https://api.reddit.com/comments/1glpzlj\n",
      "Fetching comments from https://api.reddit.com/comments/1gle8pm\n",
      "Fetching comments from https://api.reddit.com/comments/1glheoi\n",
      "Fetching comments from https://api.reddit.com/comments/1gloun8\n",
      "Fetching comments from https://api.reddit.com/comments/1gl6vot\n",
      "Fetching comments from https://api.reddit.com/comments/1gllx90\n",
      "Fetching comments from https://api.reddit.com/comments/1gl8vmh\n",
      "Fetching comments from https://api.reddit.com/comments/1gl24fz\n",
      "Fetching comments from https://api.reddit.com/comments/1gleh3n\n",
      "Fetching comments from https://api.reddit.com/comments/1gktx35\n",
      "Fetching comments from https://api.reddit.com/comments/1gl6dmx\n",
      "Fetching comments from https://api.reddit.com/comments/1gliig1\n",
      "Fetching comments from https://api.reddit.com/comments/1glqv74\n",
      "Fetching comments from https://api.reddit.com/comments/1glfd42\n",
      "Fetching comments from https://api.reddit.com/comments/1glstfz\n",
      "Fetching comments from https://api.reddit.com/comments/1gl2hga\n",
      "Fetching comments from https://api.reddit.com/comments/1gll6df\n",
      "Fetching comments from https://api.reddit.com/comments/1gkxpo8\n",
      "Fetching comments from https://api.reddit.com/comments/1glmfyg\n",
      "Fetching comments from https://api.reddit.com/comments/1glq5ak\n",
      "Fetching comments from https://api.reddit.com/comments/1glawll\n",
      "Fetching comments from https://api.reddit.com/comments/1gldv2m\n",
      "Fetching comments from https://api.reddit.com/comments/1gla235\n",
      "Fetching comments from https://api.reddit.com/comments/1gl2ycq\n",
      "Fetching comments from https://api.reddit.com/comments/1gl5ee7\n",
      "Fetching comments from https://api.reddit.com/comments/1glsh6q\n",
      "Fetching comments from https://api.reddit.com/comments/1glk147\n",
      "Fetching comments from https://api.reddit.com/comments/1glrzd9\n",
      "Fetching comments from https://api.reddit.com/comments/1glqm7l\n",
      "Fetching comments from https://api.reddit.com/comments/1glq48x\n",
      "Fetching comments from https://api.reddit.com/comments/1gknikg\n",
      "Fetching comments from https://api.reddit.com/comments/1gllgq1\n",
      "Fetching comments from https://api.reddit.com/comments/1glgh9a\n",
      "Fetching comments from https://api.reddit.com/comments/1glj7tt\n",
      "Fetching comments from https://api.reddit.com/comments/1glc170\n",
      "Fetching comments from https://api.reddit.com/comments/1glq358\n",
      "Fetching comments from https://api.reddit.com/comments/1glmjk9\n",
      "Fetching comments from https://api.reddit.com/comments/1gkkegp\n",
      "Fetching comments from https://api.reddit.com/comments/1glfotl\n",
      "Fetching comments from https://api.reddit.com/comments/1glhtw3\n",
      "Fetching comments from https://api.reddit.com/comments/1gkko33\n",
      "Fetching comments from https://api.reddit.com/comments/1glkw7x\n",
      "Fetching comments from https://api.reddit.com/comments/1glkinz\n",
      "Fetching comments from https://api.reddit.com/comments/1glotq0\n",
      "Fetching comments from https://api.reddit.com/comments/1glosto\n"
     ]
    }
   ],
   "source": [
    "# 3c. For subreddit TooAfraidToAsk\n",
    "\n",
    "subreddit_name_3 = \"TooAfraidToAsk\"\n",
    "numberofposts_3 = numberofposts\n",
    "\n",
    "TooAfraidToAsk_posts_df, TooAfraidToAsk_comments_df = scrapesubreddit_converttoDF(scraper, subreddit_name_3, numberofposts_3)"
   ]
  },
  {
   "cell_type": "markdown",
   "metadata": {},
   "source": [
    "### Step 2: Find the average depth of ALL comment trees (ie ALL posts) under each subreddit\n",
    "\n",
    "ie Find the average length of all chains from root nodes to leaf nodes across all posts"
   ]
  },
  {
   "cell_type": "code",
   "execution_count": 34,
   "metadata": {},
   "outputs": [],
   "source": [
    "# 1. Define function to obtain average depth of each comment tree (ie each post)\n",
    "\n",
    "def calculate_average_chain_length(G):\n",
    "    \"\"\"\n",
    "    Calculate the average length of chains of sequential nodes in the directed graph G.\n",
    "    \"\"\"\n",
    "    chain_lengths = []\n",
    "    \n",
    "    # Find all root nodes (nodes with no incoming edges)\n",
    "    for node in G.nodes:\n",
    "        if G.in_degree(node) == 0:\n",
    "            # Calculate the length of each chain starting from the root node\n",
    "            for path in nx.single_source_dijkstra_path_length(G, node):\n",
    "                chain_lengths.append(len(path))\n",
    "    \n",
    "    # Calculate the average chain length\n",
    "    average_length = sum(chain_lengths) / len(chain_lengths) if chain_lengths else 0\n",
    "    return average_length\n",
    "\n",
    "    "
   ]
  },
  {
   "cell_type": "code",
   "execution_count": 55,
   "metadata": {},
   "outputs": [],
   "source": [
    "# 2. Define function to obtain average depth of all comment trees (ie all posts) under each subreddit\n",
    "\n",
    "\n",
    "def average_depth_per_subreddit(posts_df, comments_df, subreddit):\n",
    "\n",
    "    \"\"\"\n",
    "    2a. Iterate the function across ALL posts in the posts_df for each subreddit\n",
    "    \"\"\"\n",
    "    \n",
    "    all_posts_chain_depth = []\n",
    "\n",
    "    for i in posts_df['id']:\n",
    "\n",
    "        post_i_comments = comments_df[comments_df['post_id'] == i]\n",
    "\n",
    "\n",
    "\n",
    "        \"\"\"\n",
    "        2b. For each post, create a directed network of comments with optional root nodes.\n",
    "        \"\"\"\n",
    "\n",
    "        comment_tree = create_comment_tree(post_i_comments, include_root=True)\n",
    "\n",
    "\n",
    "\n",
    "        \"\"\"\n",
    "        2c. For each post, calculate the average length of chains of sequential nodes in each comment tree (directed graph G)\n",
    "        \"\"\"\n",
    "\n",
    "        average_depth = calculate_average_chain_length(comment_tree)\n",
    "\n",
    "\n",
    "\n",
    "        \"\"\"\n",
    "        2d. For each post, append the average depth to `all_posts_chain_lengths`\n",
    "        \"\"\"\n",
    "\n",
    "        all_posts_chain_depth.append(average_depth)\n",
    "\n",
    "\n",
    "    \"\"\"\n",
    "    2e. For each subreddit, plot the distribution of average depth for each post\n",
    "    \"\"\"\n",
    "\n",
    "    # Set up the plot\n",
    "    plt.figure(figsize=(5, 3))\n",
    "    sns.histplot(all_posts_chain_depth, bins=10, kde=True, color='skyblue')\n",
    "\n",
    "    # Add labels and title\n",
    "    plt.xlabel(\"Average Depth of Posts within subreddit\")\n",
    "    plt.ylabel(\"Frequency\")\n",
    "    plt.title(f\"Distribution of Average Depth for Each Post in the Subreddit {subreddit}\")\n",
    "\n",
    "\n",
    "\n",
    "    \"\"\"\n",
    "    2f. Across all posts (comment trees), calculate the average depth (average length of chains of sequential nodes)\n",
    "    \"\"\"\n",
    "\n",
    "    subreddit_average_depth = sum(all_posts_chain_depth) / len(all_posts_chain_depth) if all_posts_chain_depth else 0\n",
    "\n",
    "\n",
    "    \"\"\"\n",
    "    2g. Convert the list of average depths across all posts in the subreddit into a DataFrame\n",
    "    \"\"\"\n",
    "\n",
    "    subreddit_all_depth_df = pd.DataFrame(all_posts_chain_depth, columns = [\"Depth\"])\n",
    "\n",
    "\n",
    "    \"\"\"\n",
    "    2h. Return the average depth across all posts of each subreddit, and the dataframe containing all the average depths of each post within the subreddit\n",
    "    \"\"\"\n",
    "\n",
    "\n",
    "    return subreddit_average_depth, subreddit_all_depth_df\n",
    "        \n",
    "\n",
    "\n",
    "\n"
   ]
  },
  {
   "cell_type": "code",
   "execution_count": 56,
   "metadata": {},
   "outputs": [
    {
     "name": "stdout",
     "output_type": "stream",
     "text": [
      "Average depth across all posts in subreddit AskMen is 6.99822\n"
     ]
    },
    {
     "data": {
      "image/png": "[encoded data removed]",
      "text/plain": [
       "<Figure size 500x300 with 1 Axes>"
      ]
     },
     "metadata": {},
     "output_type": "display_data"
    }
   ],
   "source": [
    "# 3a. Average depth for AskMen\n",
    "\n",
    "AskMen_average_depth, AskMen_all_depth_df = average_depth_per_subreddit(AskMen_posts_df, AskMen_comments_df, subreddit_name_1)\n",
    "\n",
    "print(f\"Average depth across all posts in subreddit AskMen is {AskMen_average_depth:.5f}\")"
   ]
  },
  {
   "cell_type": "code",
   "execution_count": 57,
   "metadata": {},
   "outputs": [
    {
     "name": "stdout",
     "output_type": "stream",
     "text": [
      "Average depth across all posts in subreddit AskWomen is 2.88235\n"
     ]
    },
    {
     "data": {
      "image/png": "[encoded data removed]",
      "text/plain": [
       "<Figure size 500x300 with 1 Axes>"
      ]
     },
     "metadata": {},
     "output_type": "display_data"
    }
   ],
   "source": [
    "# 3b. Average depth for AskWomen\n",
    "\n",
    "AskWomen_average_depth, AskWomen_all_depth_df = average_depth_per_subreddit(AskWomen_posts_df, AskWomen_comments_df, subreddit_name_2)\n",
    "\n",
    "print(f\"Average depth across all posts in subreddit AskWomen is {AskWomen_average_depth:.5f}\")"
   ]
  },
  {
   "cell_type": "code",
   "execution_count": 58,
   "metadata": {},
   "outputs": [
    {
     "name": "stdout",
     "output_type": "stream",
     "text": [
      "Average depth across all posts in subreddit TooAfraidtoask is 6.99874\n"
     ]
    },
    {
     "data": {
      "image/png": "[encoded data removed]",
      "text/plain": [
       "<Figure size 500x300 with 1 Axes>"
      ]
     },
     "metadata": {},
     "output_type": "display_data"
    }
   ],
   "source": [
    "# 3c. Average depth for TooAfraidtoask\n",
    "\n",
    "TooAfraidToAsk_average_depth, TooAfraidToAsk_all_depth_df = average_depth_per_subreddit(TooAfraidToAsk_posts_df, TooAfraidToAsk_comments_df, subreddit_name_3)\n",
    "\n",
    "print(f\"Average depth across all posts in subreddit TooAfraidtoask is {TooAfraidToAsk_average_depth:.5f}\")"
   ]
  },
  {
   "cell_type": "markdown",
   "metadata": {},
   "source": []
  },
  {
   "cell_type": "markdown",
   "metadata": {},
   "source": [
    "### Step 4: Conduct a one-way ANOVA to test equality in distributions of average depth across posts in each subreddit\n",
    "\n",
    "Null Hypothesis is that all the distributions have the same distribution of average depth across posts in each subreddit\n",
    "\n",
    "Alternative Hypothesis is that the distributions are not identical"
   ]
  },
  {
   "cell_type": "code",
   "execution_count": 39,
   "metadata": {},
   "outputs": [
    {
     "name": "stdout",
     "output_type": "stream",
     "text": [
      "One-way ANOVA Results:\n",
      "F-statistic: 72.084\n",
      "p-value: 0.000\n",
      "==================================================\n",
      "Since p-value = 0.000 < 0.05,\n",
      "          at 5% significance level we reject the null hypothesis\n",
      "          and conclude that there is a statistically significant difference across the distributions\n"
     ]
    }
   ],
   "source": [
    "# 1. Perform one-way ANOVA\n",
    "f_statistic, p_value = stats.f_oneway(AskMen_all_depth_df['Depth'], AskWomen_all_depth_df['Depth'], TooAfraidToAsk_all_depth_df['Depth'])\n",
    "\n",
    "significance_level = 0.05\n",
    "\n",
    "# 2a. Print the results\n",
    "print(\"One-way ANOVA Results:\")\n",
    "print(f\"F-statistic: {f_statistic:.3f}\")\n",
    "print(f\"p-value: {p_value:.3f}\")\n",
    "\n",
    "print(\"=\"*50)\n",
    "\n",
    "# 2b. Conditional Conclusion\n",
    "if p_value > significance_level:\n",
    "    print(f'''Since p-value = {p_value:.3f} > 0.05,\n",
    "          at 5% significance level we do not reject the null hypothesis\n",
    "          and conclude that there is no statistically significant difference across the distributions''')\n",
    "    \n",
    "else: \n",
    "    print(f'''Since p-value = {p_value:.3f} < 0.05,\n",
    "          at 5% significance level we reject the null hypothesis\n",
    "          and conclude that there is a statistically significant difference across the distributions''')"
   ]
  },
  {
   "cell_type": "code",
   "execution_count": 40,
   "metadata": {},
   "outputs": [
    {
     "name": "stdout",
     "output_type": "stream",
     "text": [
      "\n",
      "Tukey's HSD Test Results:\n",
      "     Multiple Comparison of Means - Tukey HSD, FWER=0.05     \n",
      "=============================================================\n",
      " group1      group2     meandiff p-adj  lower   upper  reject\n",
      "-------------------------------------------------------------\n",
      "  AskMen       AskWomen  -4.1159   0.0 -5.0544 -3.1774   True\n",
      "  AskMen TooAfraidToAsk   0.0005   1.0 -0.9335  0.9345  False\n",
      "AskWomen TooAfraidToAsk   4.1164   0.0  3.1824  5.0504   True\n",
      "-------------------------------------------------------------\n"
     ]
    }
   ],
   "source": [
    "# 1. Add a column to each dataframe specifying the subreddit\n",
    "\n",
    "AskMen_all_depth_df[\"subreddit\"] = subreddit_name_1\n",
    "\n",
    "AskWomen_all_depth_df[\"subreddit\"] = subreddit_name_2\n",
    "\n",
    "TooAfraidToAsk_all_depth_df[\"subreddit\"] = subreddit_name_3\n",
    "\n",
    "\n",
    "# 2. Concatenate all the dataframes together\n",
    "\n",
    "combined_average_depth_df = pd.concat([AskMen_all_depth_df, AskWomen_all_depth_df, TooAfraidToAsk_all_depth_df], ignore_index = True)\n",
    "\n",
    "\n",
    "# 3. Conduct Tukey's HSD\n",
    "\n",
    "tukey_results = pairwise_tukeyhsd(combined_average_depth_df['Depth'], combined_average_depth_df['subreddit'])\n",
    "\n",
    "\n",
    "# 4. Print results of Tukey's HSD\n",
    "\n",
    "print(\"\\nTukey's HSD Test Results:\")\n",
    "print(tukey_results)\n",
    "\n"
   ]
  },
  {
   "cell_type": "markdown",
   "metadata": {},
   "source": [
    "Since p-value for AskMen-AskWomen and AskWomen-TooAfraidToAsk is < 0.05, hence at 5% significance level, we reject the null hypothesis for these 2 cases\n",
    "\n",
    "Since p-value for AskMen-TooAfraidToAsk is > 0.05, hence at 5% significance level, we do not reject the null hypothesis"
   ]
  },
  {
   "cell_type": "markdown",
   "metadata": {},
   "source": []
  }
 ],
 "metadata": {
  "kernelspec": {
   "display_name": ".venv",
   "language": "python",
   "name": "python3"
  },
  "language_info": {
   "codemirror_mode": {
    "name": "ipython",
    "version": 3
   },
   "file_extension": ".py",
   "mimetype": "text/x-python",
   "name": "python",
   "nbconvert_exporter": "python",
   "pygments_lexer": "ipython3",
   "version": "3.12.4"
  }
 },
 "nbformat": 4,
 "nbformat_minor": 2
}
